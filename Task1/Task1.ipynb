{
  "nbformat": 4,
  "nbformat_minor": 0,
  "metadata": {
    "colab": {
      "provenance": []
    },
    "kernelspec": {
      "name": "python3",
      "display_name": "Python 3"
    },
    "language_info": {
      "name": "python"
    }
  },
  "cells": [
    {
      "cell_type": "code",
      "execution_count": 7,
      "metadata": {
        "id": "w4y6dCt9AEKT"
      },
      "outputs": [],
      "source": [
        "import pandas as pd\n",
        "from sklearn.model_selection import train_test_split\n",
        "from sklearn.linear_model import LinearRegression\n",
        "from sklearn.metrics import mean_squared_error"
      ]
    },
    {
      "cell_type": "code",
      "source": [
        "df = pd.read_csv('/content/Housing.csv')\n",
        "df.rename(columns={'area': 'SquareFootage'}, inplace=True)"
      ],
      "metadata": {
        "id": "yaA1WIVFAOfl"
      },
      "execution_count": 22,
      "outputs": []
    },
    {
      "cell_type": "code",
      "source": [
        "features = ['SquareFootage', 'bedrooms', 'bathrooms']\n",
        "target = 'price'\n",
        "\n",
        "X = df[features]\n",
        "y = df[target]"
      ],
      "metadata": {
        "id": "EkNJmb_KAYZF"
      },
      "execution_count": 25,
      "outputs": []
    },
    {
      "cell_type": "code",
      "source": [
        "X_train, X_test, y_train, y_test = train_test_split(X, y, test_size=0.2, random_state=42)"
      ],
      "metadata": {
        "id": "1BTV92v3AbQo"
      },
      "execution_count": 26,
      "outputs": []
    },
    {
      "cell_type": "code",
      "source": [
        "model = LinearRegression()\n",
        "model.fit(X_train, y_train)"
      ],
      "metadata": {
        "colab": {
          "base_uri": "https://localhost:8080/",
          "height": 74
        },
        "id": "7idsLuPwVpeo",
        "outputId": "0e246d3d-7aaf-4cc6-d59e-8080c66a6793"
      },
      "execution_count": 27,
      "outputs": [
        {
          "output_type": "execute_result",
          "data": {
            "text/plain": [
              "LinearRegression()"
            ],
            "text/html": [
              "<style>#sk-container-id-2 {color: black;background-color: white;}#sk-container-id-2 pre{padding: 0;}#sk-container-id-2 div.sk-toggleable {background-color: white;}#sk-container-id-2 label.sk-toggleable__label {cursor: pointer;display: block;width: 100%;margin-bottom: 0;padding: 0.3em;box-sizing: border-box;text-align: center;}#sk-container-id-2 label.sk-toggleable__label-arrow:before {content: \"▸\";float: left;margin-right: 0.25em;color: #696969;}#sk-container-id-2 label.sk-toggleable__label-arrow:hover:before {color: black;}#sk-container-id-2 div.sk-estimator:hover label.sk-toggleable__label-arrow:before {color: black;}#sk-container-id-2 div.sk-toggleable__content {max-height: 0;max-width: 0;overflow: hidden;text-align: left;background-color: #f0f8ff;}#sk-container-id-2 div.sk-toggleable__content pre {margin: 0.2em;color: black;border-radius: 0.25em;background-color: #f0f8ff;}#sk-container-id-2 input.sk-toggleable__control:checked~div.sk-toggleable__content {max-height: 200px;max-width: 100%;overflow: auto;}#sk-container-id-2 input.sk-toggleable__control:checked~label.sk-toggleable__label-arrow:before {content: \"▾\";}#sk-container-id-2 div.sk-estimator input.sk-toggleable__control:checked~label.sk-toggleable__label {background-color: #d4ebff;}#sk-container-id-2 div.sk-label input.sk-toggleable__control:checked~label.sk-toggleable__label {background-color: #d4ebff;}#sk-container-id-2 input.sk-hidden--visually {border: 0;clip: rect(1px 1px 1px 1px);clip: rect(1px, 1px, 1px, 1px);height: 1px;margin: -1px;overflow: hidden;padding: 0;position: absolute;width: 1px;}#sk-container-id-2 div.sk-estimator {font-family: monospace;background-color: #f0f8ff;border: 1px dotted black;border-radius: 0.25em;box-sizing: border-box;margin-bottom: 0.5em;}#sk-container-id-2 div.sk-estimator:hover {background-color: #d4ebff;}#sk-container-id-2 div.sk-parallel-item::after {content: \"\";width: 100%;border-bottom: 1px solid gray;flex-grow: 1;}#sk-container-id-2 div.sk-label:hover label.sk-toggleable__label {background-color: #d4ebff;}#sk-container-id-2 div.sk-serial::before {content: \"\";position: absolute;border-left: 1px solid gray;box-sizing: border-box;top: 0;bottom: 0;left: 50%;z-index: 0;}#sk-container-id-2 div.sk-serial {display: flex;flex-direction: column;align-items: center;background-color: white;padding-right: 0.2em;padding-left: 0.2em;position: relative;}#sk-container-id-2 div.sk-item {position: relative;z-index: 1;}#sk-container-id-2 div.sk-parallel {display: flex;align-items: stretch;justify-content: center;background-color: white;position: relative;}#sk-container-id-2 div.sk-item::before, #sk-container-id-2 div.sk-parallel-item::before {content: \"\";position: absolute;border-left: 1px solid gray;box-sizing: border-box;top: 0;bottom: 0;left: 50%;z-index: -1;}#sk-container-id-2 div.sk-parallel-item {display: flex;flex-direction: column;z-index: 1;position: relative;background-color: white;}#sk-container-id-2 div.sk-parallel-item:first-child::after {align-self: flex-end;width: 50%;}#sk-container-id-2 div.sk-parallel-item:last-child::after {align-self: flex-start;width: 50%;}#sk-container-id-2 div.sk-parallel-item:only-child::after {width: 0;}#sk-container-id-2 div.sk-dashed-wrapped {border: 1px dashed gray;margin: 0 0.4em 0.5em 0.4em;box-sizing: border-box;padding-bottom: 0.4em;background-color: white;}#sk-container-id-2 div.sk-label label {font-family: monospace;font-weight: bold;display: inline-block;line-height: 1.2em;}#sk-container-id-2 div.sk-label-container {text-align: center;}#sk-container-id-2 div.sk-container {/* jupyter's `normalize.less` sets `[hidden] { display: none; }` but bootstrap.min.css set `[hidden] { display: none !important; }` so we also need the `!important` here to be able to override the default hidden behavior on the sphinx rendered scikit-learn.org. See: https://github.com/scikit-learn/scikit-learn/issues/21755 */display: inline-block !important;position: relative;}#sk-container-id-2 div.sk-text-repr-fallback {display: none;}</style><div id=\"sk-container-id-2\" class=\"sk-top-container\"><div class=\"sk-text-repr-fallback\"><pre>LinearRegression()</pre><b>In a Jupyter environment, please rerun this cell to show the HTML representation or trust the notebook. <br />On GitHub, the HTML representation is unable to render, please try loading this page with nbviewer.org.</b></div><div class=\"sk-container\" hidden><div class=\"sk-item\"><div class=\"sk-estimator sk-toggleable\"><input class=\"sk-toggleable__control sk-hidden--visually\" id=\"sk-estimator-id-2\" type=\"checkbox\" checked><label for=\"sk-estimator-id-2\" class=\"sk-toggleable__label sk-toggleable__label-arrow\">LinearRegression</label><div class=\"sk-toggleable__content\"><pre>LinearRegression()</pre></div></div></div></div></div>"
            ]
          },
          "metadata": {},
          "execution_count": 27
        }
      ]
    },
    {
      "cell_type": "code",
      "source": [
        "y_pred = model.predict(X_test)"
      ],
      "metadata": {
        "id": "fZD2edvCVsIc"
      },
      "execution_count": 28,
      "outputs": []
    },
    {
      "cell_type": "code",
      "source": [
        "y_pred"
      ],
      "metadata": {
        "colab": {
          "base_uri": "https://localhost:8080/"
        },
        "id": "g2fc4L6OXKcN",
        "outputId": "60d89edf-4527-4605-f08b-010193f16be0"
      },
      "execution_count": 33,
      "outputs": [
        {
          "output_type": "execute_result",
          "data": {
            "text/plain": [
              "array([6383168.05981192, 6230250.35140428, 3597885.28090091,\n",
              "       4289730.8386382 , 3930445.60575177, 4883933.33918115,\n",
              "       5505773.16533075, 6068793.48103629, 3321512.02483442,\n",
              "       3495157.72744705, 8731338.12527607, 3561265.8244721 ,\n",
              "       3487335.97847431, 3633344.35548029, 3933900.2714526 ,\n",
              "       6661080.95290716, 2893133.47793136, 4635197.40872131,\n",
              "       4583377.42320885, 4274999.75826381, 4296640.17003986,\n",
              "       4920207.32903988, 3462807.85199841, 3875170.95453847,\n",
              "       5412497.19140831, 7425564.68389184, 3269692.03932195,\n",
              "       5021117.35611339, 7122556.71331971, 3238600.04801447,\n",
              "       5366583.9261965 , 3640253.68688195, 6057517.06636272,\n",
              "       4847659.34932243, 4572198.51082701, 5573863.86824637,\n",
              "       4167435.67282878, 4021179.33154444, 3764621.65211187,\n",
              "       5307730.62714319, 5319221.21748587, 3456243.98716683,\n",
              "       6202613.02579763, 4013357.58257171, 4534099.68582614,\n",
              "       4235271.10270425, 6057517.06636272, 4525560.52386579,\n",
              "       4983206.22693419, 3238600.04801447, 6567080.25723531,\n",
              "       3238600.04801447, 4886475.58731091, 4116997.55359665,\n",
              "       4180093.95378268, 3567705.7071645 , 5971150.42384195,\n",
              "       3391517.75642211, 5150855.01571622, 3514973.30408096,\n",
              "       4723103.68827085, 4722288.7729915 , 4427005.04910038,\n",
              "       3915714.52537737, 4414098.80386812, 3861352.29173514,\n",
              "       5904599.35795509, 3598797.69847198, 5824514.82737829,\n",
              "       4531557.43769638, 4969297.37060092, 4759565.37395123,\n",
              "       5104119.52646327, 7612116.63173673, 3129432.61186821,\n",
              "       5816602.88487562, 3816441.63762434, 3865621.87271532,\n",
              "       4635197.40872131, 4393370.80966313, 6542082.68205015,\n",
              "       3971901.59416174, 5884783.78132117, 4866660.010677  ,\n",
              "       3149691.15736394, 7466018.06120081, 3529704.38445536,\n",
              "       3754257.65500938, 6908277.24633825, 7840034.37446164,\n",
              "       3940907.10514598, 5343403.87739169, 4084993.1447181 ,\n",
              "       3740438.99220605, 9091535.77573358, 4200821.94798766,\n",
              "       4935974.80912452, 5988423.7523461 , 4462464.12367976,\n",
              "       6624994.6588701 , 3681709.67529193, 5573863.86824637,\n",
              "       3588433.70136949, 6547076.98477974, 4995395.05917882,\n",
              "       5316678.96935611, 6417714.71682023, 6057517.06636272,\n",
              "       6092063.72337104])"
            ]
          },
          "metadata": {},
          "execution_count": 33
        }
      ]
    },
    {
      "cell_type": "code",
      "source": [
        "mse = mean_squared_error(y_test, y_pred)\n",
        "print(f'Mean Squared Error: {mse}')"
      ],
      "metadata": {
        "colab": {
          "base_uri": "https://localhost:8080/"
        },
        "id": "w3-hF-fXVvEe",
        "outputId": "dcde2d0f-dd35-43af-c27c-335777064dd8"
      },
      "execution_count": 29,
      "outputs": [
        {
          "output_type": "stream",
          "name": "stdout",
          "text": [
            "Mean Squared Error: 2750040479309.0522\n"
          ]
        }
      ]
    },
    {
      "cell_type": "code",
      "source": [
        "new_data = pd.DataFrame({'SquareFootage': [1800], 'bedrooms': [3], 'bathrooms': [2]})\n",
        "predicted_price = model.predict(new_data)\n",
        "print('Predicted Price for the new house:'+str(int(predicted_price[0])))"
      ],
      "metadata": {
        "colab": {
          "base_uri": "https://localhost:8080/"
        },
        "id": "J8TUDNzjVx4B",
        "outputId": "898a3e41-f79f-45dd-a77c-96a95a59ad53"
      },
      "execution_count": 31,
      "outputs": [
        {
          "output_type": "stream",
          "name": "stdout",
          "text": [
            "Predicted Price for the new house:4606557\n"
          ]
        }
      ]
    },
    {
      "cell_type": "code",
      "source": [],
      "metadata": {
        "id": "ZK82SP_tV5Hn"
      },
      "execution_count": null,
      "outputs": []
    }
  ]
}